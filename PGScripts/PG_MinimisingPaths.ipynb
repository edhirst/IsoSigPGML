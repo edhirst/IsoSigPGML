{
 "cells": [
  {
   "cell_type": "code",
   "execution_count": null,
   "id": "c38d4570",
   "metadata": {},
   "outputs": [],
   "source": [
    "'''Script for generating paths to minimum number of tetrahedra -- for training word2vec'''\n",
    "'''\n",
    "1) search graph for nodes with minimum num tet, save indexes\n",
    "2) generate shortest paths from remaining nodes to these indexes, and save them as isosigs\n",
    "'''\n",
    "\n",
    "#Import Libraries\n",
    "import regina\n",
    "import numpy as np\n",
    "import networkx as nx\n",
    "import pickle\n",
    "\n",
    "#Define manifolds\n",
    "mflds = ['cMcabbgqs','cMcabbjaj','cMcabbgqw','eLAkbcbddhhjhk','cMcabbjqw','gvLQQedfedffrwawrhh','fvPQcdecedekrsnrs','jLvAzQQcfeghighiiuquanobwwr']\n",
    "mflds_names = ['S3','S2xS1','RP3','L71','L72','T3','PHS','H_SC']\n",
    "\n",
    "#Select manifolds and depths to run\n",
    "mfld_idx = 0  \n",
    "depth_choice = 5\n",
    "\n",
    "#Import the respective Pachner graph\n",
    "PG_import = pickle.load(open(f'../Data/PGData/DeepPG/{mflds_names[mfld_idx]}/PG_{mflds_names[mfld_idx]}_({depth_choice},23).pickle', 'rb'))\n",
    "print(f'Manifold: {mflds_names[mfld_idx]}\\nGraph size: {PG_import.number_of_nodes()}')\n"
   ]
  },
  {
   "cell_type": "code",
   "execution_count": null,
   "id": "f8a1683b",
   "metadata": {},
   "outputs": [],
   "source": [
    "#Import respective isosigs\n",
    "with open(f'../Data/PGData/DeepPG/{mflds_names[mfld_idx]}/T_list_{mflds_names[mfld_idx]}.txt') as file:\n",
    "    T_list_import = []\n",
    "    for line in file.readlines()[:PG_import.number_of_nodes()]: \n",
    "        T_list_import.append(line.strip('\\n'))\n",
    "#Identify their respective number of tetrahedra\n",
    "numtet_labels = dict(list(enumerate([regina.engine.Triangulation3.fromSig(sig).countTetrahedra() for sig in T_list_import])))\n",
    "\n",
    "#Find and return the triangulation isosigs with the minimum number of tetrahedra\n",
    "min_value = float('inf')\n",
    "min_keys = []\n",
    "for key, value in numtet_labels.items():\n",
    "    if value < min_value:\n",
    "        min_value = value\n",
    "        min_keys = [key]\n",
    "    elif value == min_value:\n",
    "        min_keys.append(key)\n",
    "\n",
    "print(f'Keys with minimum value ({numtet_labels[min_keys[0]]}): {min_keys}')\n",
    "print(f'Respective IsoSigs: {[T_list_import[idx] for idx in min_keys]}')\n"
   ]
  },
  {
   "cell_type": "code",
   "execution_count": null,
   "id": "e1beac3b",
   "metadata": {},
   "outputs": [],
   "source": [
    "#Generate the minimising paths (from random starting points in the Pachner graph to a random minimal triangulation)\n",
    "#Time the generation\n",
    "import time\n",
    "st = time.time()\n",
    "\n",
    "#Decide how many paths to generate\n",
    "num_shortestpaths_to_generate = int(1e4)\n",
    "num_shortestpaths_to_generate = min(num_shortestpaths_to_generate,PG_import.number_of_nodes()) #...can't generate more paths than there are nodes\n",
    "start_nodes = np.random.choice(PG_import.number_of_nodes(),num_shortestpaths_to_generate,replace=False)\n",
    "\n",
    "#Generate the paths\n",
    "paths = []\n",
    "for idx, sn in enumerate(start_nodes):\n",
    "    min_node = np.random.choice(min_keys)\n",
    "    paths.append(nx.shortest_path(PG_import,sn,min_node))\n",
    "    if idx%100 == 0:\n",
    "        print(f'{idx}: {time.time()-st}',flush=True)\n"
   ]
  },
  {
   "cell_type": "code",
   "execution_count": null,
   "id": "a0d897a3",
   "metadata": {},
   "outputs": [],
   "source": [
    "#Print some example paths\n",
    "print(f'Number of paths: {len(paths)}')\n",
    "for i in np.random.choice(len(paths),5):\n",
    "    print([T_list_import[node] for node in paths[i]])\n",
    "    "
   ]
  },
  {
   "cell_type": "code",
   "execution_count": null,
   "id": "b4fe4567",
   "metadata": {},
   "outputs": [],
   "source": [
    "#Save these paths as lists of their isosigs\n",
    "with open(f'../Data/Databases/MinimisingPaths/MinimisingPaths_{mflds_names[mfld_idx]}.txt','w') as file:\n",
    "    for pp in paths:\n",
    "        file.write(str([T_list_import[node] for node in pp])+'\\n')\n"
   ]
  }
 ],
 "metadata": {
  "kernelspec": {
   "display_name": "SageMath 10.0",
   "language": "sage",
   "name": "sagemath"
  },
  "language_info": {
   "codemirror_mode": {
    "name": "ipython",
    "version": 3
   },
   "file_extension": ".py",
   "mimetype": "text/x-python",
   "name": "python",
   "nbconvert_exporter": "python",
   "pygments_lexer": "ipython3",
   "version": "3.9.18"
  }
 },
 "nbformat": 4,
 "nbformat_minor": 5
}
